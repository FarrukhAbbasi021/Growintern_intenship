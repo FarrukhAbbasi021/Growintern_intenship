{
  "nbformat": 4,
  "nbformat_minor": 0,
  "metadata": {
    "colab": {
      "provenance": []
    },
    "kernelspec": {
      "name": "python3",
      "display_name": "Python 3"
    },
    "language_info": {
      "name": "python"
    }
  },
  "cells": [
    {
      "cell_type": "markdown",
      "source": [
        "# Importing Libraries\n"
      ],
      "metadata": {
        "id": "W2uLer8WLVv3"
      }
    },
    {
      "cell_type": "code",
      "execution_count": null,
      "metadata": {
        "id": "DgzS21LX-vhu"
      },
      "outputs": [],
      "source": [
        "import pandas as pd\n",
        "import numpy as np\n",
        "from numpy import array\n",
        "import math\n",
        "import matplotlib.pyplot as plt\n",
        "from sklearn.preprocessing import MinMaxScaler\n",
        "import tensorflow as tf\n",
        "from tensorflow.keras.models import Sequential\n",
        "from tensorflow.keras.layers import Dense\n",
        "from tensorflow.keras.layers import LSTM\n",
        "%matplotlib inline"
      ]
    },
    {
      "cell_type": "markdown",
      "source": [
        "# Loading Dataset"
      ],
      "metadata": {
        "id": "VGzWOdMdLdOQ"
      }
    },
    {
      "cell_type": "code",
      "source": [
        "df=pd.read_csv('apple_share_price.csv')\n",
        "df.head(5)"
      ],
      "metadata": {
        "colab": {
          "base_uri": "https://localhost:8080/",
          "height": 206
        },
        "id": "WOXBk_bs_Na9",
        "outputId": "e3faac62-f0b3-47f1-e857-3a9d5e23fe6b"
      },
      "execution_count": null,
      "outputs": [
        {
          "output_type": "execute_result",
          "data": {
            "text/plain": [
              "        Date    Open    High     Low   Close    Volume\n",
              "0  11-Aug-17  156.60  158.57  156.07  157.48  26257096\n",
              "1  10-Aug-17  159.90  160.00  154.63  155.32  40804273\n",
              "2   9-Aug-17  159.26  161.27  159.11  161.06  26131530\n",
              "3   8-Aug-17  158.60  161.83  158.27  160.08  36205896\n",
              "4   7-Aug-17  157.06  158.92  156.67  158.81  21870321"
            ],
            "text/html": [
              "\n",
              "  <div id=\"df-cabad1b4-a69d-4223-8df1-31141dfcab5d\" class=\"colab-df-container\">\n",
              "    <div>\n",
              "<style scoped>\n",
              "    .dataframe tbody tr th:only-of-type {\n",
              "        vertical-align: middle;\n",
              "    }\n",
              "\n",
              "    .dataframe tbody tr th {\n",
              "        vertical-align: top;\n",
              "    }\n",
              "\n",
              "    .dataframe thead th {\n",
              "        text-align: right;\n",
              "    }\n",
              "</style>\n",
              "<table border=\"1\" class=\"dataframe\">\n",
              "  <thead>\n",
              "    <tr style=\"text-align: right;\">\n",
              "      <th></th>\n",
              "      <th>Date</th>\n",
              "      <th>Open</th>\n",
              "      <th>High</th>\n",
              "      <th>Low</th>\n",
              "      <th>Close</th>\n",
              "      <th>Volume</th>\n",
              "    </tr>\n",
              "  </thead>\n",
              "  <tbody>\n",
              "    <tr>\n",
              "      <th>0</th>\n",
              "      <td>11-Aug-17</td>\n",
              "      <td>156.60</td>\n",
              "      <td>158.57</td>\n",
              "      <td>156.07</td>\n",
              "      <td>157.48</td>\n",
              "      <td>26257096</td>\n",
              "    </tr>\n",
              "    <tr>\n",
              "      <th>1</th>\n",
              "      <td>10-Aug-17</td>\n",
              "      <td>159.90</td>\n",
              "      <td>160.00</td>\n",
              "      <td>154.63</td>\n",
              "      <td>155.32</td>\n",
              "      <td>40804273</td>\n",
              "    </tr>\n",
              "    <tr>\n",
              "      <th>2</th>\n",
              "      <td>9-Aug-17</td>\n",
              "      <td>159.26</td>\n",
              "      <td>161.27</td>\n",
              "      <td>159.11</td>\n",
              "      <td>161.06</td>\n",
              "      <td>26131530</td>\n",
              "    </tr>\n",
              "    <tr>\n",
              "      <th>3</th>\n",
              "      <td>8-Aug-17</td>\n",
              "      <td>158.60</td>\n",
              "      <td>161.83</td>\n",
              "      <td>158.27</td>\n",
              "      <td>160.08</td>\n",
              "      <td>36205896</td>\n",
              "    </tr>\n",
              "    <tr>\n",
              "      <th>4</th>\n",
              "      <td>7-Aug-17</td>\n",
              "      <td>157.06</td>\n",
              "      <td>158.92</td>\n",
              "      <td>156.67</td>\n",
              "      <td>158.81</td>\n",
              "      <td>21870321</td>\n",
              "    </tr>\n",
              "  </tbody>\n",
              "</table>\n",
              "</div>\n",
              "    <div class=\"colab-df-buttons\">\n",
              "\n",
              "  <div class=\"colab-df-container\">\n",
              "    <button class=\"colab-df-convert\" onclick=\"convertToInteractive('df-cabad1b4-a69d-4223-8df1-31141dfcab5d')\"\n",
              "            title=\"Convert this dataframe to an interactive table.\"\n",
              "            style=\"display:none;\">\n",
              "\n",
              "  <svg xmlns=\"http://www.w3.org/2000/svg\" height=\"24px\" viewBox=\"0 -960 960 960\">\n",
              "    <path d=\"M120-120v-720h720v720H120Zm60-500h600v-160H180v160Zm220 220h160v-160H400v160Zm0 220h160v-160H400v160ZM180-400h160v-160H180v160Zm440 0h160v-160H620v160ZM180-180h160v-160H180v160Zm440 0h160v-160H620v160Z\"/>\n",
              "  </svg>\n",
              "    </button>\n",
              "\n",
              "  <style>\n",
              "    .colab-df-container {\n",
              "      display:flex;\n",
              "      gap: 12px;\n",
              "    }\n",
              "\n",
              "    .colab-df-convert {\n",
              "      background-color: #E8F0FE;\n",
              "      border: none;\n",
              "      border-radius: 50%;\n",
              "      cursor: pointer;\n",
              "      display: none;\n",
              "      fill: #1967D2;\n",
              "      height: 32px;\n",
              "      padding: 0 0 0 0;\n",
              "      width: 32px;\n",
              "    }\n",
              "\n",
              "    .colab-df-convert:hover {\n",
              "      background-color: #E2EBFA;\n",
              "      box-shadow: 0px 1px 2px rgba(60, 64, 67, 0.3), 0px 1px 3px 1px rgba(60, 64, 67, 0.15);\n",
              "      fill: #174EA6;\n",
              "    }\n",
              "\n",
              "    .colab-df-buttons div {\n",
              "      margin-bottom: 4px;\n",
              "    }\n",
              "\n",
              "    [theme=dark] .colab-df-convert {\n",
              "      background-color: #3B4455;\n",
              "      fill: #D2E3FC;\n",
              "    }\n",
              "\n",
              "    [theme=dark] .colab-df-convert:hover {\n",
              "      background-color: #434B5C;\n",
              "      box-shadow: 0px 1px 3px 1px rgba(0, 0, 0, 0.15);\n",
              "      filter: drop-shadow(0px 1px 2px rgba(0, 0, 0, 0.3));\n",
              "      fill: #FFFFFF;\n",
              "    }\n",
              "  </style>\n",
              "\n",
              "    <script>\n",
              "      const buttonEl =\n",
              "        document.querySelector('#df-cabad1b4-a69d-4223-8df1-31141dfcab5d button.colab-df-convert');\n",
              "      buttonEl.style.display =\n",
              "        google.colab.kernel.accessAllowed ? 'block' : 'none';\n",
              "\n",
              "      async function convertToInteractive(key) {\n",
              "        const element = document.querySelector('#df-cabad1b4-a69d-4223-8df1-31141dfcab5d');\n",
              "        const dataTable =\n",
              "          await google.colab.kernel.invokeFunction('convertToInteractive',\n",
              "                                                    [key], {});\n",
              "        if (!dataTable) return;\n",
              "\n",
              "        const docLinkHtml = 'Like what you see? Visit the ' +\n",
              "          '<a target=\"_blank\" href=https://colab.research.google.com/notebooks/data_table.ipynb>data table notebook</a>'\n",
              "          + ' to learn more about interactive tables.';\n",
              "        element.innerHTML = '';\n",
              "        dataTable['output_type'] = 'display_data';\n",
              "        await google.colab.output.renderOutput(dataTable, element);\n",
              "        const docLink = document.createElement('div');\n",
              "        docLink.innerHTML = docLinkHtml;\n",
              "        element.appendChild(docLink);\n",
              "      }\n",
              "    </script>\n",
              "  </div>\n",
              "\n",
              "\n",
              "<div id=\"df-76692287-4534-49de-bf65-d7ab64bf5a8a\">\n",
              "  <button class=\"colab-df-quickchart\" onclick=\"quickchart('df-76692287-4534-49de-bf65-d7ab64bf5a8a')\"\n",
              "            title=\"Suggest charts.\"\n",
              "            style=\"display:none;\">\n",
              "\n",
              "<svg xmlns=\"http://www.w3.org/2000/svg\" height=\"24px\"viewBox=\"0 0 24 24\"\n",
              "     width=\"24px\">\n",
              "    <g>\n",
              "        <path d=\"M19 3H5c-1.1 0-2 .9-2 2v14c0 1.1.9 2 2 2h14c1.1 0 2-.9 2-2V5c0-1.1-.9-2-2-2zM9 17H7v-7h2v7zm4 0h-2V7h2v10zm4 0h-2v-4h2v4z\"/>\n",
              "    </g>\n",
              "</svg>\n",
              "  </button>\n",
              "\n",
              "<style>\n",
              "  .colab-df-quickchart {\n",
              "      --bg-color: #E8F0FE;\n",
              "      --fill-color: #1967D2;\n",
              "      --hover-bg-color: #E2EBFA;\n",
              "      --hover-fill-color: #174EA6;\n",
              "      --disabled-fill-color: #AAA;\n",
              "      --disabled-bg-color: #DDD;\n",
              "  }\n",
              "\n",
              "  [theme=dark] .colab-df-quickchart {\n",
              "      --bg-color: #3B4455;\n",
              "      --fill-color: #D2E3FC;\n",
              "      --hover-bg-color: #434B5C;\n",
              "      --hover-fill-color: #FFFFFF;\n",
              "      --disabled-bg-color: #3B4455;\n",
              "      --disabled-fill-color: #666;\n",
              "  }\n",
              "\n",
              "  .colab-df-quickchart {\n",
              "    background-color: var(--bg-color);\n",
              "    border: none;\n",
              "    border-radius: 50%;\n",
              "    cursor: pointer;\n",
              "    display: none;\n",
              "    fill: var(--fill-color);\n",
              "    height: 32px;\n",
              "    padding: 0;\n",
              "    width: 32px;\n",
              "  }\n",
              "\n",
              "  .colab-df-quickchart:hover {\n",
              "    background-color: var(--hover-bg-color);\n",
              "    box-shadow: 0 1px 2px rgba(60, 64, 67, 0.3), 0 1px 3px 1px rgba(60, 64, 67, 0.15);\n",
              "    fill: var(--button-hover-fill-color);\n",
              "  }\n",
              "\n",
              "  .colab-df-quickchart-complete:disabled,\n",
              "  .colab-df-quickchart-complete:disabled:hover {\n",
              "    background-color: var(--disabled-bg-color);\n",
              "    fill: var(--disabled-fill-color);\n",
              "    box-shadow: none;\n",
              "  }\n",
              "\n",
              "  .colab-df-spinner {\n",
              "    border: 2px solid var(--fill-color);\n",
              "    border-color: transparent;\n",
              "    border-bottom-color: var(--fill-color);\n",
              "    animation:\n",
              "      spin 1s steps(1) infinite;\n",
              "  }\n",
              "\n",
              "  @keyframes spin {\n",
              "    0% {\n",
              "      border-color: transparent;\n",
              "      border-bottom-color: var(--fill-color);\n",
              "      border-left-color: var(--fill-color);\n",
              "    }\n",
              "    20% {\n",
              "      border-color: transparent;\n",
              "      border-left-color: var(--fill-color);\n",
              "      border-top-color: var(--fill-color);\n",
              "    }\n",
              "    30% {\n",
              "      border-color: transparent;\n",
              "      border-left-color: var(--fill-color);\n",
              "      border-top-color: var(--fill-color);\n",
              "      border-right-color: var(--fill-color);\n",
              "    }\n",
              "    40% {\n",
              "      border-color: transparent;\n",
              "      border-right-color: var(--fill-color);\n",
              "      border-top-color: var(--fill-color);\n",
              "    }\n",
              "    60% {\n",
              "      border-color: transparent;\n",
              "      border-right-color: var(--fill-color);\n",
              "    }\n",
              "    80% {\n",
              "      border-color: transparent;\n",
              "      border-right-color: var(--fill-color);\n",
              "      border-bottom-color: var(--fill-color);\n",
              "    }\n",
              "    90% {\n",
              "      border-color: transparent;\n",
              "      border-bottom-color: var(--fill-color);\n",
              "    }\n",
              "  }\n",
              "</style>\n",
              "\n",
              "  <script>\n",
              "    async function quickchart(key) {\n",
              "      const quickchartButtonEl =\n",
              "        document.querySelector('#' + key + ' button');\n",
              "      quickchartButtonEl.disabled = true;  // To prevent multiple clicks.\n",
              "      quickchartButtonEl.classList.add('colab-df-spinner');\n",
              "      try {\n",
              "        const charts = await google.colab.kernel.invokeFunction(\n",
              "            'suggestCharts', [key], {});\n",
              "      } catch (error) {\n",
              "        console.error('Error during call to suggestCharts:', error);\n",
              "      }\n",
              "      quickchartButtonEl.classList.remove('colab-df-spinner');\n",
              "      quickchartButtonEl.classList.add('colab-df-quickchart-complete');\n",
              "    }\n",
              "    (() => {\n",
              "      let quickchartButtonEl =\n",
              "        document.querySelector('#df-76692287-4534-49de-bf65-d7ab64bf5a8a button');\n",
              "      quickchartButtonEl.style.display =\n",
              "        google.colab.kernel.accessAllowed ? 'block' : 'none';\n",
              "    })();\n",
              "  </script>\n",
              "</div>\n",
              "    </div>\n",
              "  </div>\n"
            ]
          },
          "metadata": {},
          "execution_count": 2
        }
      ]
    },
    {
      "cell_type": "code",
      "source": [
        "df.shape\n"
      ],
      "metadata": {
        "colab": {
          "base_uri": "https://localhost:8080/"
        },
        "id": "mKgui5nj_Uzg",
        "outputId": "05c49adc-45e2-421b-f376-1ae7efe0f057"
      },
      "execution_count": null,
      "outputs": [
        {
          "output_type": "execute_result",
          "data": {
            "text/plain": [
              "(1664, 6)"
            ]
          },
          "metadata": {},
          "execution_count": 3
        }
      ]
    },
    {
      "cell_type": "code",
      "source": [
        "df1=df.reset_index()['Close'];df1\n"
      ],
      "metadata": {
        "colab": {
          "base_uri": "https://localhost:8080/"
        },
        "id": "G5vnCspi_cRf",
        "outputId": "5962a1f1-824d-4b35-98d8-b0e065992632"
      },
      "execution_count": null,
      "outputs": [
        {
          "output_type": "execute_result",
          "data": {
            "text/plain": [
              "0       157.48\n",
              "1       155.32\n",
              "2       161.06\n",
              "3       160.08\n",
              "4       158.81\n",
              "         ...  \n",
              "1659     48.02\n",
              "1660     47.68\n",
              "1661     47.71\n",
              "1662     47.33\n",
              "1663     47.08\n",
              "Name: Close, Length: 1664, dtype: float64"
            ]
          },
          "metadata": {},
          "execution_count": 4
        }
      ]
    },
    {
      "cell_type": "markdown",
      "source": [
        "# EDA"
      ],
      "metadata": {
        "id": "80qpc_07L17H"
      }
    },
    {
      "cell_type": "code",
      "source": [
        "plt.plot(df1);plt.show()\n"
      ],
      "metadata": {
        "colab": {
          "base_uri": "https://localhost:8080/",
          "height": 430
        },
        "id": "asZC7gOt_fmK",
        "outputId": "4b0f1ec9-195f-478f-b17b-feb0cf8bb90c"
      },
      "execution_count": null,
      "outputs": [
        {
          "output_type": "display_data",
          "data": {
            "text/plain": [
              "<Figure size 640x480 with 1 Axes>"
            ],
            "image/png": "[encoded data removed]"
          },
          "metadata": {}
        }
      ]
    },
    {
      "cell_type": "code",
      "source": [
        "scaler=MinMaxScaler(feature_range=(0,1))\n",
        "df1=scaler.fit_transform(np.array(df1).reshape(-1,1));df1"
      ],
      "metadata": {
        "colab": {
          "base_uri": "https://localhost:8080/"
        },
        "id": "9bSieuf9_l7h",
        "outputId": "c391198c-b9c5-468c-972d-7fc3c66092dc"
      },
      "execution_count": null,
      "outputs": [
        {
          "output_type": "execute_result",
          "data": {
            "text/plain": [
              "array([[0.96914059],\n",
              "       [0.95052151],\n",
              "       [1.        ],\n",
              "       ...,\n",
              "       [0.02292906],\n",
              "       [0.01965348],\n",
              "       [0.01749849]])"
            ]
          },
          "metadata": {},
          "execution_count": 6
        }
      ]
    },
    {
      "cell_type": "code",
      "source": [
        "##splitting dataset into train and test split\n",
        "training_size=int(len(df1)*0.65)\n",
        "test_size=len(df1)-training_size\n",
        "train_data,test_data=df1[0:training_size,:],df1[training_size:len(df1),:1]\n",
        "print(training_size,test_size)"
      ],
      "metadata": {
        "colab": {
          "base_uri": "https://localhost:8080/"
        },
        "id": "IM288CU-_qT7",
        "outputId": "cbf14e05-fa1d-4ae3-f155-40535a5fb360"
      },
      "execution_count": null,
      "outputs": [
        {
          "output_type": "stream",
          "name": "stdout",
          "text": [
            "1081 583\n"
          ]
        }
      ]
    },
    {
      "cell_type": "code",
      "source": [
        "#convert an array of values into a dataset matrix\n",
        "def create_dataset(dataset, time_step=1):\n",
        "    dataX, dataY = [], []\n",
        "    for i in range(len(dataset)-time_step-1):\n",
        "        a = dataset[i:(i+time_step), 0]   ###i=0, 0,1,2,3-----99   100\n",
        "        dataX.append(a)\n",
        "        dataY.append(dataset[i + time_step, 0])\n",
        "    return np.array(dataX), np.array(dataY)"
      ],
      "metadata": {
        "id": "HdR_UZKS_v7T"
      },
      "execution_count": null,
      "outputs": []
    },
    {
      "cell_type": "markdown",
      "source": [
        "# Training Model"
      ],
      "metadata": {
        "id": "4AiO-6d7MBJ0"
      }
    },
    {
      "cell_type": "code",
      "source": [
        "# reshape into X=t,t+1,t+2,t+3 and Y=t+4\n",
        "time_step = 100\n",
        "X_train, y_train = create_dataset(train_data, time_step)\n",
        "X_test, ytest = create_dataset(test_data, time_step)"
      ],
      "metadata": {
        "id": "Le3XmVie_1a-"
      },
      "execution_count": null,
      "outputs": []
    },
    {
      "cell_type": "code",
      "source": [
        "print(X_train.shape), print(y_train.shape),print(X_test.shape), print(ytest.shape)\n"
      ],
      "metadata": {
        "colab": {
          "base_uri": "https://localhost:8080/"
        },
        "id": "P778MDf6_5L5",
        "outputId": "e0c69c84-baf9-4a3b-fe7c-48733d368ada"
      },
      "execution_count": null,
      "outputs": [
        {
          "output_type": "stream",
          "name": "stdout",
          "text": [
            "(980, 100)\n",
            "(980,)\n",
            "(482, 100)\n",
            "(482,)\n"
          ]
        },
        {
          "output_type": "execute_result",
          "data": {
            "text/plain": [
              "(None, None, None, None)"
            ]
          },
          "metadata": {},
          "execution_count": 10
        }
      ]
    },
    {
      "cell_type": "code",
      "source": [
        "X_train =X_train.reshape(X_train.shape[0],X_train.shape[1] , 1)\n",
        "X_test = X_test.reshape(X_test.shape[0],X_test.shape[1] , 1)"
      ],
      "metadata": {
        "id": "w9jDCFNs_7hC"
      },
      "execution_count": null,
      "outputs": []
    },
    {
      "cell_type": "code",
      "source": [
        "model=Sequential()\n",
        "model.add(LSTM(50,return_sequences=True,input_shape=(100,1)))\n",
        "model.add(LSTM(50,return_sequences=True))\n",
        "model.add(LSTM(50))\n",
        "model.add(Dense(1))\n",
        "model.compile(loss='mse',optimizer='adam')\n",
        "model.summary()"
      ],
      "metadata": {
        "colab": {
          "base_uri": "https://localhost:8080/"
        },
        "id": "Xp0TrYWZAB1Q",
        "outputId": "ed0a1d04-7b7f-4dc0-f7cc-e67d91784f0a"
      },
      "execution_count": null,
      "outputs": [
        {
          "output_type": "stream",
          "name": "stdout",
          "text": [
            "Model: \"sequential\"\n",
            "_________________________________________________________________\n",
            " Layer (type)                Output Shape              Param #   \n",
            "=================================================================\n",
            " lstm (LSTM)                 (None, 100, 50)           10400     \n",
            "                                                                 \n",
            " lstm_1 (LSTM)               (None, 100, 50)           20200     \n",
            "                                                                 \n",
            " lstm_2 (LSTM)               (None, 50)                20200     \n",
            "                                                                 \n",
            " dense (Dense)               (None, 1)                 51        \n",
            "                                                                 \n",
            "=================================================================\n",
            "Total params: 50851 (198.64 KB)\n",
            "Trainable params: 50851 (198.64 KB)\n",
            "Non-trainable params: 0 (0.00 Byte)\n",
            "_________________________________________________________________\n"
          ]
        }
      ]
    },
    {
      "cell_type": "code",
      "source": [
        "history=model.fit(X_train,y_train,validation_data=(X_test,ytest),epochs=10,batch_size=32,verbose=0)\n"
      ],
      "metadata": {
        "id": "anjud5HZAE7h"
      },
      "execution_count": null,
      "outputs": []
    },
    {
      "cell_type": "markdown",
      "source": [
        "# Visualization"
      ],
      "metadata": {
        "id": "e7maoJRjMO2W"
      }
    },
    {
      "cell_type": "code",
      "source": [
        "# Show the learning curves\n",
        "history_df = pd.DataFrame(history.history)\n",
        "history_df.loc[:, ['loss', 'val_loss']].plot();"
      ],
      "metadata": {
        "colab": {
          "base_uri": "https://localhost:8080/",
          "height": 430
        },
        "id": "DOG84kRGALX3",
        "outputId": "254084ab-03f2-4b56-fa8f-f8981c9840f6"
      },
      "execution_count": null,
      "outputs": [
        {
          "output_type": "display_data",
          "data": {
            "text/plain": [
              "<Figure size 640x480 with 1 Axes>"
            ],
            "image/png": "[encoded data removed]"
          },
          "metadata": {}
        }
      ]
    },
    {
      "cell_type": "code",
      "source": [
        "train_predict=model.predict(X_train) #prediction\n",
        "test_predict=model.predict(X_test)\n"
      ],
      "metadata": {
        "colab": {
          "base_uri": "https://localhost:8080/"
        },
        "id": "MpPGFOJCATMw",
        "outputId": "bc8e5808-8ef7-481b-dfec-62c42d13fc0e"
      },
      "execution_count": null,
      "outputs": [
        {
          "output_type": "stream",
          "name": "stdout",
          "text": [
            "31/31 [==============================] - 3s 46ms/step\n",
            "16/16 [==============================] - 1s 55ms/step\n"
          ]
        }
      ]
    },
    {
      "cell_type": "code",
      "source": [
        "##Transformback to original form\n",
        "train_predict=scaler.inverse_transform(train_predict)\n",
        "test_predict=scaler.inverse_transform(test_predict)"
      ],
      "metadata": {
        "id": "DTwMMkvzAWe4"
      },
      "execution_count": null,
      "outputs": []
    },
    {
      "cell_type": "code",
      "source": [
        "#Calculate RMSE performance metrics\n",
        "from sklearn.metrics import mean_squared_error\n",
        "print(math.sqrt(mean_squared_error(y_train,train_predict)))\n",
        "print(math.sqrt(mean_squared_error(ytest,test_predict)))"
      ],
      "metadata": {
        "colab": {
          "base_uri": "https://localhost:8080/"
        },
        "id": "vJFB0O6_Aacp",
        "outputId": "fc244168-8220-4ce8-932a-3baa83c89f5b"
      },
      "execution_count": null,
      "outputs": [
        {
          "output_type": "stream",
          "name": "stdout",
          "text": [
            "101.6531678871251\n",
            "68.81056168839196\n"
          ]
        }
      ]
    },
    {
      "cell_type": "code",
      "source": [
        "# shift train predictions for plotting\n",
        "look_back=100\n",
        "trainPredictPlot = np.empty_like(df1)\n",
        "trainPredictPlot[:, :] = np.nan\n",
        "trainPredictPlot[look_back:len(train_predict)+look_back, :] = train_predict\n",
        "# shift test predictions for plotting\n",
        "testPredictPlot = np.empty_like(df1)\n",
        "testPredictPlot[:, :] = np.nan\n",
        "testPredictPlot[len(train_predict)+(look_back*2)+1:len(df1)-1, :] = test_predict\n",
        "# plot baseline and predictions\n",
        "plt.plot(scaler.inverse_transform(df1))\n",
        "plt.plot(trainPredictPlot)\n",
        "plt.plot(testPredictPlot)\n",
        "plt.legend()\n",
        "plt.show()"
      ],
      "metadata": {
        "colab": {
          "base_uri": "https://localhost:8080/",
          "height": 467
        },
        "id": "vjzCNF2QAdQ7",
        "outputId": "23a8fff0-3e3b-48d5-94b9-e7ac31a75b75"
      },
      "execution_count": null,
      "outputs": [
        {
          "output_type": "stream",
          "name": "stderr",
          "text": [
            "WARNING:matplotlib.legend:No artists with labels found to put in legend.  Note that artists whose label start with an underscore are ignored when legend() is called with no argument.\n"
          ]
        },
        {
          "output_type": "display_data",
          "data": {
            "text/plain": [
              "<Figure size 640x480 with 1 Axes>"
            ],
            "image/png": "[encoded data removed]"
          },
          "metadata": {}
        }
      ]
    },
    {
      "cell_type": "markdown",
      "source": [
        "# Executing model"
      ],
      "metadata": {
        "id": "hWtKYaPxMiOj"
      }
    },
    {
      "cell_type": "code",
      "source": [
        "x_input=test_data[483:].reshape(1,-1) #len(test_data)\n",
        "temp_input=list(x_input)\n",
        "temp_input=temp_input[0].tolist()"
      ],
      "metadata": {
        "id": "IORyesVGAgbh"
      },
      "execution_count": null,
      "outputs": []
    },
    {
      "cell_type": "code",
      "source": [
        "# demonstrate prediction for next 10 days\n",
        "lst_output=[]\n",
        "n_steps=100\n",
        "i=0\n",
        "while(i<30):\n",
        "\n",
        "    if(len(temp_input)>100):\n",
        "        #print(temp_input)\n",
        "        x_input=np.array(temp_input[1:])\n",
        "        print(\"{} day input {}\".format(i,x_input))\n",
        "        x_input=x_input.reshape(1,-1)\n",
        "        x_input = x_input.reshape((1, n_steps, 1))\n",
        "        #print(x_input)\n",
        "        yhat = model.predict(x_input, verbose=0)\n",
        "        print(\"{} day output {}\".format(i,yhat))\n",
        "        temp_input.extend(yhat[0].tolist())\n",
        "        temp_input=temp_input[1:]\n",
        "        #print(temp_input)\n",
        "        lst_output.extend(yhat.tolist())\n",
        "        i=i+1\n",
        "    else:\n",
        "        x_input = x_input.reshape((1, n_steps,1))\n",
        "        yhat = model.predict(x_input, verbose=0)\n",
        "        print(yhat[0])\n",
        "        temp_input.extend(yhat[0].tolist())\n",
        "        print(len(temp_input))\n",
        "        lst_output.extend(yhat.tolist())\n",
        "        i=i+1\n",
        "\n",
        "print(lst_output)\n"
      ],
      "metadata": {
        "colab": {
          "base_uri": "https://localhost:8080/"
        },
        "id": "m-3MeWllAjRY",
        "outputId": "dfd617e1-a7ce-4240-9ffc-adcd33e148a4"
      },
      "execution_count": null,
      "outputs": [
        {
          "output_type": "stream",
          "name": "stdout",
          "text": [
            "[0.03405749]\n",
            "101\n",
            "1 day input [0.02077407 0.02344625 0.02448065 0.03103181 0.03016981 0.02560124\n",
            " 0.02206706 0.03094561 0.03844496 0.03922076 0.04197914 0.03973795\n",
            " 0.03853116 0.03870356 0.04215154 0.04042755 0.03810016 0.04284113\n",
            " 0.03870356 0.04284113 0.04318593 0.04637531 0.04353073 0.03335919\n",
            " 0.02775623 0.02034307 0.01491251 0.02103267 0.02560124 0.02103267\n",
            " 0.01905008 0.02430825 0.02801483 0.02792863 0.02896302 0.0318076\n",
            " 0.03594518 0.04085855 0.04094475 0.04387553 0.04318593 0.04456512\n",
            " 0.03646237 0.02939402 0.0318076  0.02948022 0.01887768 0.02379105\n",
            " 0.01801569 0.03706577 0.04706491 0.04508232 0.03853116 0.04568572\n",
            " 0.04973709 0.04930609 0.05499526 0.05447806 0.04525472 0.04180674\n",
            " 0.04663391 0.04042755 0.03387639 0.03361779 0.02861822 0.04335833\n",
            " 0.05292647 0.05887423 0.05482286 0.05396087 0.05111628 0.0482717\n",
            " 0.05275407 0.0490475  0.04499612 0.03835876 0.03456599 0.03568658\n",
            " 0.03654857 0.02948022 0.02551504 0.03430739 0.03508318 0.0320662\n",
            " 0.02723903 0.01396431 0.02137747 0.02896302 0.03111801 0.04077235\n",
            " 0.03732437 0.03577278 0.032411   0.03335919 0.02560124 0.02267046\n",
            " 0.02292906 0.01965348 0.01749849 0.03405749]\n",
            "1 day output [[0.0328874]]\n",
            "2 day input [0.02344625 0.02448065 0.03103181 0.03016981 0.02560124 0.02206706\n",
            " 0.03094561 0.03844496 0.03922076 0.04197914 0.03973795 0.03853116\n",
            " 0.03870356 0.04215154 0.04042755 0.03810016 0.04284113 0.03870356\n",
            " 0.04284113 0.04318593 0.04637531 0.04353073 0.03335919 0.02775623\n",
            " 0.02034307 0.01491251 0.02103267 0.02560124 0.02103267 0.01905008\n",
            " 0.02430825 0.02801483 0.02792863 0.02896302 0.0318076  0.03594518\n",
            " 0.04085855 0.04094475 0.04387553 0.04318593 0.04456512 0.03646237\n",
            " 0.02939402 0.0318076  0.02948022 0.01887768 0.02379105 0.01801569\n",
            " 0.03706577 0.04706491 0.04508232 0.03853116 0.04568572 0.04973709\n",
            " 0.04930609 0.05499526 0.05447806 0.04525472 0.04180674 0.04663391\n",
            " 0.04042755 0.03387639 0.03361779 0.02861822 0.04335833 0.05292647\n",
            " 0.05887423 0.05482286 0.05396087 0.05111628 0.0482717  0.05275407\n",
            " 0.0490475  0.04499612 0.03835876 0.03456599 0.03568658 0.03654857\n",
            " 0.02948022 0.02551504 0.03430739 0.03508318 0.0320662  0.02723903\n",
            " 0.01396431 0.02137747 0.02896302 0.03111801 0.04077235 0.03732437\n",
            " 0.03577278 0.032411   0.03335919 0.02560124 0.02267046 0.02292906\n",
            " 0.01965348 0.01749849 0.03405749 0.0328874 ]\n",
            "2 day output [[0.03258807]]\n",
            "3 day input [0.02448065 0.03103181 0.03016981 0.02560124 0.02206706 0.03094561\n",
            " 0.03844496 0.03922076 0.04197914 0.03973795 0.03853116 0.03870356\n",
            " 0.04215154 0.04042755 0.03810016 0.04284113 0.03870356 0.04284113\n",
            " 0.04318593 0.04637531 0.04353073 0.03335919 0.02775623 0.02034307\n",
            " 0.01491251 0.02103267 0.02560124 0.02103267 0.01905008 0.02430825\n",
            " 0.02801483 0.02792863 0.02896302 0.0318076  0.03594518 0.04085855\n",
            " 0.04094475 0.04387553 0.04318593 0.04456512 0.03646237 0.02939402\n",
            " 0.0318076  0.02948022 0.01887768 0.02379105 0.01801569 0.03706577\n",
            " 0.04706491 0.04508232 0.03853116 0.04568572 0.04973709 0.04930609\n",
            " 0.05499526 0.05447806 0.04525472 0.04180674 0.04663391 0.04042755\n",
            " 0.03387639 0.03361779 0.02861822 0.04335833 0.05292647 0.05887423\n",
            " 0.05482286 0.05396087 0.05111628 0.0482717  0.05275407 0.0490475\n",
            " 0.04499612 0.03835876 0.03456599 0.03568658 0.03654857 0.02948022\n",
            " 0.02551504 0.03430739 0.03508318 0.0320662  0.02723903 0.01396431\n",
            " 0.02137747 0.02896302 0.03111801 0.04077235 0.03732437 0.03577278\n",
            " 0.032411   0.03335919 0.02560124 0.02267046 0.02292906 0.01965348\n",
            " 0.01749849 0.03405749 0.0328874  0.03258807]\n",
            "3 day output [[0.0329856]]\n",
            "4 day input [0.03103181 0.03016981 0.02560124 0.02206706 0.03094561 0.03844496\n",
            " 0.03922076 0.04197914 0.03973795 0.03853116 0.03870356 0.04215154\n",
            " 0.04042755 0.03810016 0.04284113 0.03870356 0.04284113 0.04318593\n",
            " 0.04637531 0.04353073 0.03335919 0.02775623 0.02034307 0.01491251\n",
            " 0.02103267 0.02560124 0.02103267 0.01905008 0.02430825 0.02801483\n",
            " 0.02792863 0.02896302 0.0318076  0.03594518 0.04085855 0.04094475\n",
            " 0.04387553 0.04318593 0.04456512 0.03646237 0.02939402 0.0318076\n",
            " 0.02948022 0.01887768 0.02379105 0.01801569 0.03706577 0.04706491\n",
            " 0.04508232 0.03853116 0.04568572 0.04973709 0.04930609 0.05499526\n",
            " 0.05447806 0.04525472 0.04180674 0.04663391 0.04042755 0.03387639\n",
            " 0.03361779 0.02861822 0.04335833 0.05292647 0.05887423 0.05482286\n",
            " 0.05396087 0.05111628 0.0482717  0.05275407 0.0490475  0.04499612\n",
            " 0.03835876 0.03456599 0.03568658 0.03654857 0.02948022 0.02551504\n",
            " 0.03430739 0.03508318 0.0320662  0.02723903 0.01396431 0.02137747\n",
            " 0.02896302 0.03111801 0.04077235 0.03732437 0.03577278 0.032411\n",
            " 0.03335919 0.02560124 0.02267046 0.02292906 0.01965348 0.01749849\n",
            " 0.03405749 0.0328874  0.03258807 0.0329856 ]\n",
            "4 day output [[0.03384115]]\n",
            "5 day input [0.03016981 0.02560124 0.02206706 0.03094561 0.03844496 0.03922076\n",
            " 0.04197914 0.03973795 0.03853116 0.03870356 0.04215154 0.04042755\n",
            " 0.03810016 0.04284113 0.03870356 0.04284113 0.04318593 0.04637531\n",
            " 0.04353073 0.03335919 0.02775623 0.02034307 0.01491251 0.02103267\n",
            " 0.02560124 0.02103267 0.01905008 0.02430825 0.02801483 0.02792863\n",
            " 0.02896302 0.0318076  0.03594518 0.04085855 0.04094475 0.04387553\n",
            " 0.04318593 0.04456512 0.03646237 0.02939402 0.0318076  0.02948022\n",
            " 0.01887768 0.02379105 0.01801569 0.03706577 0.04706491 0.04508232\n",
            " 0.03853116 0.04568572 0.04973709 0.04930609 0.05499526 0.05447806\n",
            " 0.04525472 0.04180674 0.04663391 0.04042755 0.03387639 0.03361779\n",
            " 0.02861822 0.04335833 0.05292647 0.05887423 0.05482286 0.05396087\n",
            " 0.05111628 0.0482717  0.05275407 0.0490475  0.04499612 0.03835876\n",
            " 0.03456599 0.03568658 0.03654857 0.02948022 0.02551504 0.03430739\n",
            " 0.03508318 0.0320662  0.02723903 0.01396431 0.02137747 0.02896302\n",
            " 0.03111801 0.04077235 0.03732437 0.03577278 0.032411   0.03335919\n",
            " 0.02560124 0.02267046 0.02292906 0.01965348 0.01749849 0.03405749\n",
            " 0.0328874  0.03258807 0.0329856  0.03384115]\n",
            "5 day output [[0.03495158]]\n",
            "6 day input [0.02560124 0.02206706 0.03094561 0.03844496 0.03922076 0.04197914\n",
            " 0.03973795 0.03853116 0.03870356 0.04215154 0.04042755 0.03810016\n",
            " 0.04284113 0.03870356 0.04284113 0.04318593 0.04637531 0.04353073\n",
            " 0.03335919 0.02775623 0.02034307 0.01491251 0.02103267 0.02560124\n",
            " 0.02103267 0.01905008 0.02430825 0.02801483 0.02792863 0.02896302\n",
            " 0.0318076  0.03594518 0.04085855 0.04094475 0.04387553 0.04318593\n",
            " 0.04456512 0.03646237 0.02939402 0.0318076  0.02948022 0.01887768\n",
            " 0.02379105 0.01801569 0.03706577 0.04706491 0.04508232 0.03853116\n",
            " 0.04568572 0.04973709 0.04930609 0.05499526 0.05447806 0.04525472\n",
            " 0.04180674 0.04663391 0.04042755 0.03387639 0.03361779 0.02861822\n",
            " 0.04335833 0.05292647 0.05887423 0.05482286 0.05396087 0.05111628\n",
            " 0.0482717  0.05275407 0.0490475  0.04499612 0.03835876 0.03456599\n",
            " 0.03568658 0.03654857 0.02948022 0.02551504 0.03430739 0.03508318\n",
            " 0.0320662  0.02723903 0.01396431 0.02137747 0.02896302 0.03111801\n",
            " 0.04077235 0.03732437 0.03577278 0.032411   0.03335919 0.02560124\n",
            " 0.02267046 0.02292906 0.01965348 0.01749849 0.03405749 0.0328874\n",
            " 0.03258807 0.0329856  0.03384115 0.03495158]\n",
            "6 day output [[0.03617614]]\n",
            "7 day input [0.02206706 0.03094561 0.03844496 0.03922076 0.04197914 0.03973795\n",
            " 0.03853116 0.03870356 0.04215154 0.04042755 0.03810016 0.04284113\n",
            " 0.03870356 0.04284113 0.04318593 0.04637531 0.04353073 0.03335919\n",
            " 0.02775623 0.02034307 0.01491251 0.02103267 0.02560124 0.02103267\n",
            " 0.01905008 0.02430825 0.02801483 0.02792863 0.02896302 0.0318076\n",
            " 0.03594518 0.04085855 0.04094475 0.04387553 0.04318593 0.04456512\n",
            " 0.03646237 0.02939402 0.0318076  0.02948022 0.01887768 0.02379105\n",
            " 0.01801569 0.03706577 0.04706491 0.04508232 0.03853116 0.04568572\n",
            " 0.04973709 0.04930609 0.05499526 0.05447806 0.04525472 0.04180674\n",
            " 0.04663391 0.04042755 0.03387639 0.03361779 0.02861822 0.04335833\n",
            " 0.05292647 0.05887423 0.05482286 0.05396087 0.05111628 0.0482717\n",
            " 0.05275407 0.0490475  0.04499612 0.03835876 0.03456599 0.03568658\n",
            " 0.03654857 0.02948022 0.02551504 0.03430739 0.03508318 0.0320662\n",
            " 0.02723903 0.01396431 0.02137747 0.02896302 0.03111801 0.04077235\n",
            " 0.03732437 0.03577278 0.032411   0.03335919 0.02560124 0.02267046\n",
            " 0.02292906 0.01965348 0.01749849 0.03405749 0.0328874  0.03258807\n",
            " 0.0329856  0.03384115 0.03495158 0.03617614]\n",
            "7 day output [[0.0374305]]\n",
            "8 day input [0.03094561 0.03844496 0.03922076 0.04197914 0.03973795 0.03853116\n",
            " 0.03870356 0.04215154 0.04042755 0.03810016 0.04284113 0.03870356\n",
            " 0.04284113 0.04318593 0.04637531 0.04353073 0.03335919 0.02775623\n",
            " 0.02034307 0.01491251 0.02103267 0.02560124 0.02103267 0.01905008\n",
            " 0.02430825 0.02801483 0.02792863 0.02896302 0.0318076  0.03594518\n",
            " 0.04085855 0.04094475 0.04387553 0.04318593 0.04456512 0.03646237\n",
            " 0.02939402 0.0318076  0.02948022 0.01887768 0.02379105 0.01801569\n",
            " 0.03706577 0.04706491 0.04508232 0.03853116 0.04568572 0.04973709\n",
            " 0.04930609 0.05499526 0.05447806 0.04525472 0.04180674 0.04663391\n",
            " 0.04042755 0.03387639 0.03361779 0.02861822 0.04335833 0.05292647\n",
            " 0.05887423 0.05482286 0.05396087 0.05111628 0.0482717  0.05275407\n",
            " 0.0490475  0.04499612 0.03835876 0.03456599 0.03568658 0.03654857\n",
            " 0.02948022 0.02551504 0.03430739 0.03508318 0.0320662  0.02723903\n",
            " 0.01396431 0.02137747 0.02896302 0.03111801 0.04077235 0.03732437\n",
            " 0.03577278 0.032411   0.03335919 0.02560124 0.02267046 0.02292906\n",
            " 0.01965348 0.01749849 0.03405749 0.0328874  0.03258807 0.0329856\n",
            " 0.03384115 0.03495158 0.03617614 0.0374305 ]\n",
            "8 day output [[0.03867073]]\n",
            "9 day input [0.03844496 0.03922076 0.04197914 0.03973795 0.03853116 0.03870356\n",
            " 0.04215154 0.04042755 0.03810016 0.04284113 0.03870356 0.04284113\n",
            " 0.04318593 0.04637531 0.04353073 0.03335919 0.02775623 0.02034307\n",
            " 0.01491251 0.02103267 0.02560124 0.02103267 0.01905008 0.02430825\n",
            " 0.02801483 0.02792863 0.02896302 0.0318076  0.03594518 0.04085855\n",
            " 0.04094475 0.04387553 0.04318593 0.04456512 0.03646237 0.02939402\n",
            " 0.0318076  0.02948022 0.01887768 0.02379105 0.01801569 0.03706577\n",
            " 0.04706491 0.04508232 0.03853116 0.04568572 0.04973709 0.04930609\n",
            " 0.05499526 0.05447806 0.04525472 0.04180674 0.04663391 0.04042755\n",
            " 0.03387639 0.03361779 0.02861822 0.04335833 0.05292647 0.05887423\n",
            " 0.05482286 0.05396087 0.05111628 0.0482717  0.05275407 0.0490475\n",
            " 0.04499612 0.03835876 0.03456599 0.03568658 0.03654857 0.02948022\n",
            " 0.02551504 0.03430739 0.03508318 0.0320662  0.02723903 0.01396431\n",
            " 0.02137747 0.02896302 0.03111801 0.04077235 0.03732437 0.03577278\n",
            " 0.032411   0.03335919 0.02560124 0.02267046 0.02292906 0.01965348\n",
            " 0.01749849 0.03405749 0.0328874  0.03258807 0.0329856  0.03384115\n",
            " 0.03495158 0.03617614 0.0374305  0.03867073]\n",
            "9 day output [[0.03987785]]\n",
            "10 day input [0.03922076 0.04197914 0.03973795 0.03853116 0.03870356 0.04215154\n",
            " 0.04042755 0.03810016 0.04284113 0.03870356 0.04284113 0.04318593\n",
            " 0.04637531 0.04353073 0.03335919 0.02775623 0.02034307 0.01491251\n",
            " 0.02103267 0.02560124 0.02103267 0.01905008 0.02430825 0.02801483\n",
            " 0.02792863 0.02896302 0.0318076  0.03594518 0.04085855 0.04094475\n",
            " 0.04387553 0.04318593 0.04456512 0.03646237 0.02939402 0.0318076\n",
            " 0.02948022 0.01887768 0.02379105 0.01801569 0.03706577 0.04706491\n",
            " 0.04508232 0.03853116 0.04568572 0.04973709 0.04930609 0.05499526\n",
            " 0.05447806 0.04525472 0.04180674 0.04663391 0.04042755 0.03387639\n",
            " 0.03361779 0.02861822 0.04335833 0.05292647 0.05887423 0.05482286\n",
            " 0.05396087 0.05111628 0.0482717  0.05275407 0.0490475  0.04499612\n",
            " 0.03835876 0.03456599 0.03568658 0.03654857 0.02948022 0.02551504\n",
            " 0.03430739 0.03508318 0.0320662  0.02723903 0.01396431 0.02137747\n",
            " 0.02896302 0.03111801 0.04077235 0.03732437 0.03577278 0.032411\n",
            " 0.03335919 0.02560124 0.02267046 0.02292906 0.01965348 0.01749849\n",
            " 0.03405749 0.0328874  0.03258807 0.0329856  0.03384115 0.03495158\n",
            " 0.03617614 0.0374305  0.03867073 0.03987785]\n",
            "10 day output [[0.04104635]]\n",
            "11 day input [0.04197914 0.03973795 0.03853116 0.03870356 0.04215154 0.04042755\n",
            " 0.03810016 0.04284113 0.03870356 0.04284113 0.04318593 0.04637531\n",
            " 0.04353073 0.03335919 0.02775623 0.02034307 0.01491251 0.02103267\n",
            " 0.02560124 0.02103267 0.01905008 0.02430825 0.02801483 0.02792863\n",
            " 0.02896302 0.0318076  0.03594518 0.04085855 0.04094475 0.04387553\n",
            " 0.04318593 0.04456512 0.03646237 0.02939402 0.0318076  0.02948022\n",
            " 0.01887768 0.02379105 0.01801569 0.03706577 0.04706491 0.04508232\n",
            " 0.03853116 0.04568572 0.04973709 0.04930609 0.05499526 0.05447806\n",
            " 0.04525472 0.04180674 0.04663391 0.04042755 0.03387639 0.03361779\n",
            " 0.02861822 0.04335833 0.05292647 0.05887423 0.05482286 0.05396087\n",
            " 0.05111628 0.0482717  0.05275407 0.0490475  0.04499612 0.03835876\n",
            " 0.03456599 0.03568658 0.03654857 0.02948022 0.02551504 0.03430739\n",
            " 0.03508318 0.0320662  0.02723903 0.01396431 0.02137747 0.02896302\n",
            " 0.03111801 0.04077235 0.03732437 0.03577278 0.032411   0.03335919\n",
            " 0.02560124 0.02267046 0.02292906 0.01965348 0.01749849 0.03405749\n",
            " 0.0328874  0.03258807 0.0329856  0.03384115 0.03495158 0.03617614\n",
            " 0.0374305  0.03867073 0.03987785 0.04104635]\n",
            "11 day output [[0.04217692]]\n",
            "12 day input [0.03973795 0.03853116 0.03870356 0.04215154 0.04042755 0.03810016\n",
            " 0.04284113 0.03870356 0.04284113 0.04318593 0.04637531 0.04353073\n",
            " 0.03335919 0.02775623 0.02034307 0.01491251 0.02103267 0.02560124\n",
            " 0.02103267 0.01905008 0.02430825 0.02801483 0.02792863 0.02896302\n",
            " 0.0318076  0.03594518 0.04085855 0.04094475 0.04387553 0.04318593\n",
            " 0.04456512 0.03646237 0.02939402 0.0318076  0.02948022 0.01887768\n",
            " 0.02379105 0.01801569 0.03706577 0.04706491 0.04508232 0.03853116\n",
            " 0.04568572 0.04973709 0.04930609 0.05499526 0.05447806 0.04525472\n",
            " 0.04180674 0.04663391 0.04042755 0.03387639 0.03361779 0.02861822\n",
            " 0.04335833 0.05292647 0.05887423 0.05482286 0.05396087 0.05111628\n",
            " 0.0482717  0.05275407 0.0490475  0.04499612 0.03835876 0.03456599\n",
            " 0.03568658 0.03654857 0.02948022 0.02551504 0.03430739 0.03508318\n",
            " 0.0320662  0.02723903 0.01396431 0.02137747 0.02896302 0.03111801\n",
            " 0.04077235 0.03732437 0.03577278 0.032411   0.03335919 0.02560124\n",
            " 0.02267046 0.02292906 0.01965348 0.01749849 0.03405749 0.0328874\n",
            " 0.03258807 0.0329856  0.03384115 0.03495158 0.03617614 0.0374305\n",
            " 0.03867073 0.03987785 0.04104635 0.04217692]\n",
            "12 day output [[0.04327255]]\n",
            "13 day input [0.03853116 0.03870356 0.04215154 0.04042755 0.03810016 0.04284113\n",
            " 0.03870356 0.04284113 0.04318593 0.04637531 0.04353073 0.03335919\n",
            " 0.02775623 0.02034307 0.01491251 0.02103267 0.02560124 0.02103267\n",
            " 0.01905008 0.02430825 0.02801483 0.02792863 0.02896302 0.0318076\n",
            " 0.03594518 0.04085855 0.04094475 0.04387553 0.04318593 0.04456512\n",
            " 0.03646237 0.02939402 0.0318076  0.02948022 0.01887768 0.02379105\n",
            " 0.01801569 0.03706577 0.04706491 0.04508232 0.03853116 0.04568572\n",
            " 0.04973709 0.04930609 0.05499526 0.05447806 0.04525472 0.04180674\n",
            " 0.04663391 0.04042755 0.03387639 0.03361779 0.02861822 0.04335833\n",
            " 0.05292647 0.05887423 0.05482286 0.05396087 0.05111628 0.0482717\n",
            " 0.05275407 0.0490475  0.04499612 0.03835876 0.03456599 0.03568658\n",
            " 0.03654857 0.02948022 0.02551504 0.03430739 0.03508318 0.0320662\n",
            " 0.02723903 0.01396431 0.02137747 0.02896302 0.03111801 0.04077235\n",
            " 0.03732437 0.03577278 0.032411   0.03335919 0.02560124 0.02267046\n",
            " 0.02292906 0.01965348 0.01749849 0.03405749 0.0328874  0.03258807\n",
            " 0.0329856  0.03384115 0.03495158 0.03617614 0.0374305  0.03867073\n",
            " 0.03987785 0.04104635 0.04217692 0.04327255]\n",
            "13 day output [[0.04433666]]\n",
            "14 day input [0.03870356 0.04215154 0.04042755 0.03810016 0.04284113 0.03870356\n",
            " 0.04284113 0.04318593 0.04637531 0.04353073 0.03335919 0.02775623\n",
            " 0.02034307 0.01491251 0.02103267 0.02560124 0.02103267 0.01905008\n",
            " 0.02430825 0.02801483 0.02792863 0.02896302 0.0318076  0.03594518\n",
            " 0.04085855 0.04094475 0.04387553 0.04318593 0.04456512 0.03646237\n",
            " 0.02939402 0.0318076  0.02948022 0.01887768 0.02379105 0.01801569\n",
            " 0.03706577 0.04706491 0.04508232 0.03853116 0.04568572 0.04973709\n",
            " 0.04930609 0.05499526 0.05447806 0.04525472 0.04180674 0.04663391\n",
            " 0.04042755 0.03387639 0.03361779 0.02861822 0.04335833 0.05292647\n",
            " 0.05887423 0.05482286 0.05396087 0.05111628 0.0482717  0.05275407\n",
            " 0.0490475  0.04499612 0.03835876 0.03456599 0.03568658 0.03654857\n",
            " 0.02948022 0.02551504 0.03430739 0.03508318 0.0320662  0.02723903\n",
            " 0.01396431 0.02137747 0.02896302 0.03111801 0.04077235 0.03732437\n",
            " 0.03577278 0.032411   0.03335919 0.02560124 0.02267046 0.02292906\n",
            " 0.01965348 0.01749849 0.03405749 0.0328874  0.03258807 0.0329856\n",
            " 0.03384115 0.03495158 0.03617614 0.0374305  0.03867073 0.03987785\n",
            " 0.04104635 0.04217692 0.04327255 0.04433666]\n",
            "14 day output [[0.04537231]]\n",
            "15 day input [0.04215154 0.04042755 0.03810016 0.04284113 0.03870356 0.04284113\n",
            " 0.04318593 0.04637531 0.04353073 0.03335919 0.02775623 0.02034307\n",
            " 0.01491251 0.02103267 0.02560124 0.02103267 0.01905008 0.02430825\n",
            " 0.02801483 0.02792863 0.02896302 0.0318076  0.03594518 0.04085855\n",
            " 0.04094475 0.04387553 0.04318593 0.04456512 0.03646237 0.02939402\n",
            " 0.0318076  0.02948022 0.01887768 0.02379105 0.01801569 0.03706577\n",
            " 0.04706491 0.04508232 0.03853116 0.04568572 0.04973709 0.04930609\n",
            " 0.05499526 0.05447806 0.04525472 0.04180674 0.04663391 0.04042755\n",
            " 0.03387639 0.03361779 0.02861822 0.04335833 0.05292647 0.05887423\n",
            " 0.05482286 0.05396087 0.05111628 0.0482717  0.05275407 0.0490475\n",
            " 0.04499612 0.03835876 0.03456599 0.03568658 0.03654857 0.02948022\n",
            " 0.02551504 0.03430739 0.03508318 0.0320662  0.02723903 0.01396431\n",
            " 0.02137747 0.02896302 0.03111801 0.04077235 0.03732437 0.03577278\n",
            " 0.032411   0.03335919 0.02560124 0.02267046 0.02292906 0.01965348\n",
            " 0.01749849 0.03405749 0.0328874  0.03258807 0.0329856  0.03384115\n",
            " 0.03495158 0.03617614 0.0374305  0.03867073 0.03987785 0.04104635\n",
            " 0.04217692 0.04327255 0.04433666 0.04537231]\n",
            "15 day output [[0.04638215]]\n",
            "16 day input [0.04042755 0.03810016 0.04284113 0.03870356 0.04284113 0.04318593\n",
            " 0.04637531 0.04353073 0.03335919 0.02775623 0.02034307 0.01491251\n",
            " 0.02103267 0.02560124 0.02103267 0.01905008 0.02430825 0.02801483\n",
            " 0.02792863 0.02896302 0.0318076  0.03594518 0.04085855 0.04094475\n",
            " 0.04387553 0.04318593 0.04456512 0.03646237 0.02939402 0.0318076\n",
            " 0.02948022 0.01887768 0.02379105 0.01801569 0.03706577 0.04706491\n",
            " 0.04508232 0.03853116 0.04568572 0.04973709 0.04930609 0.05499526\n",
            " 0.05447806 0.04525472 0.04180674 0.04663391 0.04042755 0.03387639\n",
            " 0.03361779 0.02861822 0.04335833 0.05292647 0.05887423 0.05482286\n",
            " 0.05396087 0.05111628 0.0482717  0.05275407 0.0490475  0.04499612\n",
            " 0.03835876 0.03456599 0.03568658 0.03654857 0.02948022 0.02551504\n",
            " 0.03430739 0.03508318 0.0320662  0.02723903 0.01396431 0.02137747\n",
            " 0.02896302 0.03111801 0.04077235 0.03732437 0.03577278 0.032411\n",
            " 0.03335919 0.02560124 0.02267046 0.02292906 0.01965348 0.01749849\n",
            " 0.03405749 0.0328874  0.03258807 0.0329856  0.03384115 0.03495158\n",
            " 0.03617614 0.0374305  0.03867073 0.03987785 0.04104635 0.04217692\n",
            " 0.04327255 0.04433666 0.04537231 0.04638215]\n",
            "16 day output [[0.04736834]]\n",
            "17 day input [0.03810016 0.04284113 0.03870356 0.04284113 0.04318593 0.04637531\n",
            " 0.04353073 0.03335919 0.02775623 0.02034307 0.01491251 0.02103267\n",
            " 0.02560124 0.02103267 0.01905008 0.02430825 0.02801483 0.02792863\n",
            " 0.02896302 0.0318076  0.03594518 0.04085855 0.04094475 0.04387553\n",
            " 0.04318593 0.04456512 0.03646237 0.02939402 0.0318076  0.02948022\n",
            " 0.01887768 0.02379105 0.01801569 0.03706577 0.04706491 0.04508232\n",
            " 0.03853116 0.04568572 0.04973709 0.04930609 0.05499526 0.05447806\n",
            " 0.04525472 0.04180674 0.04663391 0.04042755 0.03387639 0.03361779\n",
            " 0.02861822 0.04335833 0.05292647 0.05887423 0.05482286 0.05396087\n",
            " 0.05111628 0.0482717  0.05275407 0.0490475  0.04499612 0.03835876\n",
            " 0.03456599 0.03568658 0.03654857 0.02948022 0.02551504 0.03430739\n",
            " 0.03508318 0.0320662  0.02723903 0.01396431 0.02137747 0.02896302\n",
            " 0.03111801 0.04077235 0.03732437 0.03577278 0.032411   0.03335919\n",
            " 0.02560124 0.02267046 0.02292906 0.01965348 0.01749849 0.03405749\n",
            " 0.0328874  0.03258807 0.0329856  0.03384115 0.03495158 0.03617614\n",
            " 0.0374305  0.03867073 0.03987785 0.04104635 0.04217692 0.04327255\n",
            " 0.04433666 0.04537231 0.04638215 0.04736834]\n",
            "17 day output [[0.04833282]]\n",
            "18 day input [0.04284113 0.03870356 0.04284113 0.04318593 0.04637531 0.04353073\n",
            " 0.03335919 0.02775623 0.02034307 0.01491251 0.02103267 0.02560124\n",
            " 0.02103267 0.01905008 0.02430825 0.02801483 0.02792863 0.02896302\n",
            " 0.0318076  0.03594518 0.04085855 0.04094475 0.04387553 0.04318593\n",
            " 0.04456512 0.03646237 0.02939402 0.0318076  0.02948022 0.01887768\n",
            " 0.02379105 0.01801569 0.03706577 0.04706491 0.04508232 0.03853116\n",
            " 0.04568572 0.04973709 0.04930609 0.05499526 0.05447806 0.04525472\n",
            " 0.04180674 0.04663391 0.04042755 0.03387639 0.03361779 0.02861822\n",
            " 0.04335833 0.05292647 0.05887423 0.05482286 0.05396087 0.05111628\n",
            " 0.0482717  0.05275407 0.0490475  0.04499612 0.03835876 0.03456599\n",
            " 0.03568658 0.03654857 0.02948022 0.02551504 0.03430739 0.03508318\n",
            " 0.0320662  0.02723903 0.01396431 0.02137747 0.02896302 0.03111801\n",
            " 0.04077235 0.03732437 0.03577278 0.032411   0.03335919 0.02560124\n",
            " 0.02267046 0.02292906 0.01965348 0.01749849 0.03405749 0.0328874\n",
            " 0.03258807 0.0329856  0.03384115 0.03495158 0.03617614 0.0374305\n",
            " 0.03867073 0.03987785 0.04104635 0.04217692 0.04327255 0.04433666\n",
            " 0.04537231 0.04638215 0.04736834 0.04833282]\n",
            "18 day output [[0.04927722]]\n",
            "19 day input [0.03870356 0.04284113 0.04318593 0.04637531 0.04353073 0.03335919\n",
            " 0.02775623 0.02034307 0.01491251 0.02103267 0.02560124 0.02103267\n",
            " 0.01905008 0.02430825 0.02801483 0.02792863 0.02896302 0.0318076\n",
            " 0.03594518 0.04085855 0.04094475 0.04387553 0.04318593 0.04456512\n",
            " 0.03646237 0.02939402 0.0318076  0.02948022 0.01887768 0.02379105\n",
            " 0.01801569 0.03706577 0.04706491 0.04508232 0.03853116 0.04568572\n",
            " 0.04973709 0.04930609 0.05499526 0.05447806 0.04525472 0.04180674\n",
            " 0.04663391 0.04042755 0.03387639 0.03361779 0.02861822 0.04335833\n",
            " 0.05292647 0.05887423 0.05482286 0.05396087 0.05111628 0.0482717\n",
            " 0.05275407 0.0490475  0.04499612 0.03835876 0.03456599 0.03568658\n",
            " 0.03654857 0.02948022 0.02551504 0.03430739 0.03508318 0.0320662\n",
            " 0.02723903 0.01396431 0.02137747 0.02896302 0.03111801 0.04077235\n",
            " 0.03732437 0.03577278 0.032411   0.03335919 0.02560124 0.02267046\n",
            " 0.02292906 0.01965348 0.01749849 0.03405749 0.0328874  0.03258807\n",
            " 0.0329856  0.03384115 0.03495158 0.03617614 0.0374305  0.03867073\n",
            " 0.03987785 0.04104635 0.04217692 0.04327255 0.04433666 0.04537231\n",
            " 0.04638215 0.04736834 0.04833282 0.04927722]\n",
            "19 day output [[0.05020301]]\n",
            "20 day input [0.04284113 0.04318593 0.04637531 0.04353073 0.03335919 0.02775623\n",
            " 0.02034307 0.01491251 0.02103267 0.02560124 0.02103267 0.01905008\n",
            " 0.02430825 0.02801483 0.02792863 0.02896302 0.0318076  0.03594518\n",
            " 0.04085855 0.04094475 0.04387553 0.04318593 0.04456512 0.03646237\n",
            " 0.02939402 0.0318076  0.02948022 0.01887768 0.02379105 0.01801569\n",
            " 0.03706577 0.04706491 0.04508232 0.03853116 0.04568572 0.04973709\n",
            " 0.04930609 0.05499526 0.05447806 0.04525472 0.04180674 0.04663391\n",
            " 0.04042755 0.03387639 0.03361779 0.02861822 0.04335833 0.05292647\n",
            " 0.05887423 0.05482286 0.05396087 0.05111628 0.0482717  0.05275407\n",
            " 0.0490475  0.04499612 0.03835876 0.03456599 0.03568658 0.03654857\n",
            " 0.02948022 0.02551504 0.03430739 0.03508318 0.0320662  0.02723903\n",
            " 0.01396431 0.02137747 0.02896302 0.03111801 0.04077235 0.03732437\n",
            " 0.03577278 0.032411   0.03335919 0.02560124 0.02267046 0.02292906\n",
            " 0.01965348 0.01749849 0.03405749 0.0328874  0.03258807 0.0329856\n",
            " 0.03384115 0.03495158 0.03617614 0.0374305  0.03867073 0.03987785\n",
            " 0.04104635 0.04217692 0.04327255 0.04433666 0.04537231 0.04638215\n",
            " 0.04736834 0.04833282 0.04927722 0.05020301]\n",
            "20 day output [[0.05111152]]\n",
            "21 day input [0.04318593 0.04637531 0.04353073 0.03335919 0.02775623 0.02034307\n",
            " 0.01491251 0.02103267 0.02560124 0.02103267 0.01905008 0.02430825\n",
            " 0.02801483 0.02792863 0.02896302 0.0318076  0.03594518 0.04085855\n",
            " 0.04094475 0.04387553 0.04318593 0.04456512 0.03646237 0.02939402\n",
            " 0.0318076  0.02948022 0.01887768 0.02379105 0.01801569 0.03706577\n",
            " 0.04706491 0.04508232 0.03853116 0.04568572 0.04973709 0.04930609\n",
            " 0.05499526 0.05447806 0.04525472 0.04180674 0.04663391 0.04042755\n",
            " 0.03387639 0.03361779 0.02861822 0.04335833 0.05292647 0.05887423\n",
            " 0.05482286 0.05396087 0.05111628 0.0482717  0.05275407 0.0490475\n",
            " 0.04499612 0.03835876 0.03456599 0.03568658 0.03654857 0.02948022\n",
            " 0.02551504 0.03430739 0.03508318 0.0320662  0.02723903 0.01396431\n",
            " 0.02137747 0.02896302 0.03111801 0.04077235 0.03732437 0.03577278\n",
            " 0.032411   0.03335919 0.02560124 0.02267046 0.02292906 0.01965348\n",
            " 0.01749849 0.03405749 0.0328874  0.03258807 0.0329856  0.03384115\n",
            " 0.03495158 0.03617614 0.0374305  0.03867073 0.03987785 0.04104635\n",
            " 0.04217692 0.04327255 0.04433666 0.04537231 0.04638215 0.04736834\n",
            " 0.04833282 0.04927722 0.05020301 0.05111152]\n",
            "21 day output [[0.05200388]]\n",
            "22 day input [0.04637531 0.04353073 0.03335919 0.02775623 0.02034307 0.01491251\n",
            " 0.02103267 0.02560124 0.02103267 0.01905008 0.02430825 0.02801483\n",
            " 0.02792863 0.02896302 0.0318076  0.03594518 0.04085855 0.04094475\n",
            " 0.04387553 0.04318593 0.04456512 0.03646237 0.02939402 0.0318076\n",
            " 0.02948022 0.01887768 0.02379105 0.01801569 0.03706577 0.04706491\n",
            " 0.04508232 0.03853116 0.04568572 0.04973709 0.04930609 0.05499526\n",
            " 0.05447806 0.04525472 0.04180674 0.04663391 0.04042755 0.03387639\n",
            " 0.03361779 0.02861822 0.04335833 0.05292647 0.05887423 0.05482286\n",
            " 0.05396087 0.05111628 0.0482717  0.05275407 0.0490475  0.04499612\n",
            " 0.03835876 0.03456599 0.03568658 0.03654857 0.02948022 0.02551504\n",
            " 0.03430739 0.03508318 0.0320662  0.02723903 0.01396431 0.02137747\n",
            " 0.02896302 0.03111801 0.04077235 0.03732437 0.03577278 0.032411\n",
            " 0.03335919 0.02560124 0.02267046 0.02292906 0.01965348 0.01749849\n",
            " 0.03405749 0.0328874  0.03258807 0.0329856  0.03384115 0.03495158\n",
            " 0.03617614 0.0374305  0.03867073 0.03987785 0.04104635 0.04217692\n",
            " 0.04327255 0.04433666 0.04537231 0.04638215 0.04736834 0.04833282\n",
            " 0.04927722 0.05020301 0.05111152 0.05200388]\n",
            "22 day output [[0.05288115]]\n",
            "23 day input [0.04353073 0.03335919 0.02775623 0.02034307 0.01491251 0.02103267\n",
            " 0.02560124 0.02103267 0.01905008 0.02430825 0.02801483 0.02792863\n",
            " 0.02896302 0.0318076  0.03594518 0.04085855 0.04094475 0.04387553\n",
            " 0.04318593 0.04456512 0.03646237 0.02939402 0.0318076  0.02948022\n",
            " 0.01887768 0.02379105 0.01801569 0.03706577 0.04706491 0.04508232\n",
            " 0.03853116 0.04568572 0.04973709 0.04930609 0.05499526 0.05447806\n",
            " 0.04525472 0.04180674 0.04663391 0.04042755 0.03387639 0.03361779\n",
            " 0.02861822 0.04335833 0.05292647 0.05887423 0.05482286 0.05396087\n",
            " 0.05111628 0.0482717  0.05275407 0.0490475  0.04499612 0.03835876\n",
            " 0.03456599 0.03568658 0.03654857 0.02948022 0.02551504 0.03430739\n",
            " 0.03508318 0.0320662  0.02723903 0.01396431 0.02137747 0.02896302\n",
            " 0.03111801 0.04077235 0.03732437 0.03577278 0.032411   0.03335919\n",
            " 0.02560124 0.02267046 0.02292906 0.01965348 0.01749849 0.03405749\n",
            " 0.0328874  0.03258807 0.0329856  0.03384115 0.03495158 0.03617614\n",
            " 0.0374305  0.03867073 0.03987785 0.04104635 0.04217692 0.04327255\n",
            " 0.04433666 0.04537231 0.04638215 0.04736834 0.04833282 0.04927722\n",
            " 0.05020301 0.05111152 0.05200388 0.05288115]\n",
            "23 day output [[0.05374416]]\n",
            "24 day input [0.03335919 0.02775623 0.02034307 0.01491251 0.02103267 0.02560124\n",
            " 0.02103267 0.01905008 0.02430825 0.02801483 0.02792863 0.02896302\n",
            " 0.0318076  0.03594518 0.04085855 0.04094475 0.04387553 0.04318593\n",
            " 0.04456512 0.03646237 0.02939402 0.0318076  0.02948022 0.01887768\n",
            " 0.02379105 0.01801569 0.03706577 0.04706491 0.04508232 0.03853116\n",
            " 0.04568572 0.04973709 0.04930609 0.05499526 0.05447806 0.04525472\n",
            " 0.04180674 0.04663391 0.04042755 0.03387639 0.03361779 0.02861822\n",
            " 0.04335833 0.05292647 0.05887423 0.05482286 0.05396087 0.05111628\n",
            " 0.0482717  0.05275407 0.0490475  0.04499612 0.03835876 0.03456599\n",
            " 0.03568658 0.03654857 0.02948022 0.02551504 0.03430739 0.03508318\n",
            " 0.0320662  0.02723903 0.01396431 0.02137747 0.02896302 0.03111801\n",
            " 0.04077235 0.03732437 0.03577278 0.032411   0.03335919 0.02560124\n",
            " 0.02267046 0.02292906 0.01965348 0.01749849 0.03405749 0.0328874\n",
            " 0.03258807 0.0329856  0.03384115 0.03495158 0.03617614 0.0374305\n",
            " 0.03867073 0.03987785 0.04104635 0.04217692 0.04327255 0.04433666\n",
            " 0.04537231 0.04638215 0.04736834 0.04833282 0.04927722 0.05020301\n",
            " 0.05111152 0.05200388 0.05288115 0.05374416]\n",
            "24 day output [[0.05459367]]\n",
            "25 day input [0.02775623 0.02034307 0.01491251 0.02103267 0.02560124 0.02103267\n",
            " 0.01905008 0.02430825 0.02801483 0.02792863 0.02896302 0.0318076\n",
            " 0.03594518 0.04085855 0.04094475 0.04387553 0.04318593 0.04456512\n",
            " 0.03646237 0.02939402 0.0318076  0.02948022 0.01887768 0.02379105\n",
            " 0.01801569 0.03706577 0.04706491 0.04508232 0.03853116 0.04568572\n",
            " 0.04973709 0.04930609 0.05499526 0.05447806 0.04525472 0.04180674\n",
            " 0.04663391 0.04042755 0.03387639 0.03361779 0.02861822 0.04335833\n",
            " 0.05292647 0.05887423 0.05482286 0.05396087 0.05111628 0.0482717\n",
            " 0.05275407 0.0490475  0.04499612 0.03835876 0.03456599 0.03568658\n",
            " 0.03654857 0.02948022 0.02551504 0.03430739 0.03508318 0.0320662\n",
            " 0.02723903 0.01396431 0.02137747 0.02896302 0.03111801 0.04077235\n",
            " 0.03732437 0.03577278 0.032411   0.03335919 0.02560124 0.02267046\n",
            " 0.02292906 0.01965348 0.01749849 0.03405749 0.0328874  0.03258807\n",
            " 0.0329856  0.03384115 0.03495158 0.03617614 0.0374305  0.03867073\n",
            " 0.03987785 0.04104635 0.04217692 0.04327255 0.04433666 0.04537231\n",
            " 0.04638215 0.04736834 0.04833282 0.04927722 0.05020301 0.05111152\n",
            " 0.05200388 0.05288115 0.05374416 0.05459367]\n",
            "25 day output [[0.0554303]]\n",
            "26 day input [0.02034307 0.01491251 0.02103267 0.02560124 0.02103267 0.01905008\n",
            " 0.02430825 0.02801483 0.02792863 0.02896302 0.0318076  0.03594518\n",
            " 0.04085855 0.04094475 0.04387553 0.04318593 0.04456512 0.03646237\n",
            " 0.02939402 0.0318076  0.02948022 0.01887768 0.02379105 0.01801569\n",
            " 0.03706577 0.04706491 0.04508232 0.03853116 0.04568572 0.04973709\n",
            " 0.04930609 0.05499526 0.05447806 0.04525472 0.04180674 0.04663391\n",
            " 0.04042755 0.03387639 0.03361779 0.02861822 0.04335833 0.05292647\n",
            " 0.05887423 0.05482286 0.05396087 0.05111628 0.0482717  0.05275407\n",
            " 0.0490475  0.04499612 0.03835876 0.03456599 0.03568658 0.03654857\n",
            " 0.02948022 0.02551504 0.03430739 0.03508318 0.0320662  0.02723903\n",
            " 0.01396431 0.02137747 0.02896302 0.03111801 0.04077235 0.03732437\n",
            " 0.03577278 0.032411   0.03335919 0.02560124 0.02267046 0.02292906\n",
            " 0.01965348 0.01749849 0.03405749 0.0328874  0.03258807 0.0329856\n",
            " 0.03384115 0.03495158 0.03617614 0.0374305  0.03867073 0.03987785\n",
            " 0.04104635 0.04217692 0.04327255 0.04433666 0.04537231 0.04638215\n",
            " 0.04736834 0.04833282 0.04927722 0.05020301 0.05111152 0.05200388\n",
            " 0.05288115 0.05374416 0.05459367 0.0554303 ]\n",
            "26 day output [[0.0562546]]\n",
            "27 day input [0.01491251 0.02103267 0.02560124 0.02103267 0.01905008 0.02430825\n",
            " 0.02801483 0.02792863 0.02896302 0.0318076  0.03594518 0.04085855\n",
            " 0.04094475 0.04387553 0.04318593 0.04456512 0.03646237 0.02939402\n",
            " 0.0318076  0.02948022 0.01887768 0.02379105 0.01801569 0.03706577\n",
            " 0.04706491 0.04508232 0.03853116 0.04568572 0.04973709 0.04930609\n",
            " 0.05499526 0.05447806 0.04525472 0.04180674 0.04663391 0.04042755\n",
            " 0.03387639 0.03361779 0.02861822 0.04335833 0.05292647 0.05887423\n",
            " 0.05482286 0.05396087 0.05111628 0.0482717  0.05275407 0.0490475\n",
            " 0.04499612 0.03835876 0.03456599 0.03568658 0.03654857 0.02948022\n",
            " 0.02551504 0.03430739 0.03508318 0.0320662  0.02723903 0.01396431\n",
            " 0.02137747 0.02896302 0.03111801 0.04077235 0.03732437 0.03577278\n",
            " 0.032411   0.03335919 0.02560124 0.02267046 0.02292906 0.01965348\n",
            " 0.01749849 0.03405749 0.0328874  0.03258807 0.0329856  0.03384115\n",
            " 0.03495158 0.03617614 0.0374305  0.03867073 0.03987785 0.04104635\n",
            " 0.04217692 0.04327255 0.04433666 0.04537231 0.04638215 0.04736834\n",
            " 0.04833282 0.04927722 0.05020301 0.05111152 0.05200388 0.05288115\n",
            " 0.05374416 0.05459367 0.0554303  0.0562546 ]\n",
            "27 day output [[0.05706697]]\n",
            "28 day input [0.02103267 0.02560124 0.02103267 0.01905008 0.02430825 0.02801483\n",
            " 0.02792863 0.02896302 0.0318076  0.03594518 0.04085855 0.04094475\n",
            " 0.04387553 0.04318593 0.04456512 0.03646237 0.02939402 0.0318076\n",
            " 0.02948022 0.01887768 0.02379105 0.01801569 0.03706577 0.04706491\n",
            " 0.04508232 0.03853116 0.04568572 0.04973709 0.04930609 0.05499526\n",
            " 0.05447806 0.04525472 0.04180674 0.04663391 0.04042755 0.03387639\n",
            " 0.03361779 0.02861822 0.04335833 0.05292647 0.05887423 0.05482286\n",
            " 0.05396087 0.05111628 0.0482717  0.05275407 0.0490475  0.04499612\n",
            " 0.03835876 0.03456599 0.03568658 0.03654857 0.02948022 0.02551504\n",
            " 0.03430739 0.03508318 0.0320662  0.02723903 0.01396431 0.02137747\n",
            " 0.02896302 0.03111801 0.04077235 0.03732437 0.03577278 0.032411\n",
            " 0.03335919 0.02560124 0.02267046 0.02292906 0.01965348 0.01749849\n",
            " 0.03405749 0.0328874  0.03258807 0.0329856  0.03384115 0.03495158\n",
            " 0.03617614 0.0374305  0.03867073 0.03987785 0.04104635 0.04217692\n",
            " 0.04327255 0.04433666 0.04537231 0.04638215 0.04736834 0.04833282\n",
            " 0.04927722 0.05020301 0.05111152 0.05200388 0.05288115 0.05374416\n",
            " 0.05459367 0.0554303  0.0562546  0.05706697]\n",
            "28 day output [[0.05786779]]\n",
            "29 day input [0.02560124 0.02103267 0.01905008 0.02430825 0.02801483 0.02792863\n",
            " 0.02896302 0.0318076  0.03594518 0.04085855 0.04094475 0.04387553\n",
            " 0.04318593 0.04456512 0.03646237 0.02939402 0.0318076  0.02948022\n",
            " 0.01887768 0.02379105 0.01801569 0.03706577 0.04706491 0.04508232\n",
            " 0.03853116 0.04568572 0.04973709 0.04930609 0.05499526 0.05447806\n",
            " 0.04525472 0.04180674 0.04663391 0.04042755 0.03387639 0.03361779\n",
            " 0.02861822 0.04335833 0.05292647 0.05887423 0.05482286 0.05396087\n",
            " 0.05111628 0.0482717  0.05275407 0.0490475  0.04499612 0.03835876\n",
            " 0.03456599 0.03568658 0.03654857 0.02948022 0.02551504 0.03430739\n",
            " 0.03508318 0.0320662  0.02723903 0.01396431 0.02137747 0.02896302\n",
            " 0.03111801 0.04077235 0.03732437 0.03577278 0.032411   0.03335919\n",
            " 0.02560124 0.02267046 0.02292906 0.01965348 0.01749849 0.03405749\n",
            " 0.0328874  0.03258807 0.0329856  0.03384115 0.03495158 0.03617614\n",
            " 0.0374305  0.03867073 0.03987785 0.04104635 0.04217692 0.04327255\n",
            " 0.04433666 0.04537231 0.04638215 0.04736834 0.04833282 0.04927722\n",
            " 0.05020301 0.05111152 0.05200388 0.05288115 0.05374416 0.05459367\n",
            " 0.0554303  0.0562546  0.05706697 0.05786779]\n",
            "29 day output [[0.05865737]]\n"
          ]
        }
      ]
    },
    {
      "cell_type": "code",
      "source": [
        "day_new=np.arange(1,101)\n",
        "day_pred=np.arange(101,131)"
      ],
      "metadata": {
        "id": "9k1K-fevAm_S"
      },
      "execution_count": null,
      "outputs": []
    },
    {
      "cell_type": "code",
      "source": [
        "plt.plot(day_new,scaler.inverse_transform(df1[1564:])) #len(df1)\n",
        "plt.plot(day_pred,scaler.inverse_transform(lst_output))"
      ],
      "metadata": {
        "colab": {
          "base_uri": "https://localhost:8080/",
          "height": 447
        },
        "id": "Wf_m--tUA1br",
        "outputId": "4dd535fa-1d21-4d53-9173-5e7af1214005"
      },
      "execution_count": null,
      "outputs": [
        {
          "output_type": "execute_result",
          "data": {
            "text/plain": [
              "[<matplotlib.lines.Line2D at 0x7f573da79d50>]"
            ]
          },
          "metadata": {},
          "execution_count": 22
        },
        {
          "output_type": "display_data",
          "data": {
            "text/plain": [
              "<Figure size 640x480 with 1 Axes>"
            ],
            "image/png": "[encoded data removed]"
          },
          "metadata": {}
        }
      ]
    },
    {
      "cell_type": "code",
      "source": [
        "df3=df1.tolist()\n",
        "df3.extend(lst_output)\n",
        "df3=scaler.inverse_transform(df3).tolist()\n",
        "plt.plot(df3[1600:])"
      ],
      "metadata": {
        "colab": {
          "base_uri": "https://localhost:8080/",
          "height": 447
        },
        "id": "L8K2YoEVA3mA",
        "outputId": "f5a98033-dd87-41c1-8f8e-2ecb352901d1"
      },
      "execution_count": null,
      "outputs": [
        {
          "output_type": "execute_result",
          "data": {
            "text/plain": [
              "[<matplotlib.lines.Line2D at 0x7f573d6b6e90>]"
            ]
          },
          "metadata": {},
          "execution_count": 23
        },
        {
          "output_type": "display_data",
          "data": {
            "text/plain": [
              "<Figure size 640x480 with 1 Axes>"
            ],
            "image/png": "[encoded data removed]"
          },
          "metadata": {}
        }
      ]
    },
    {
      "cell_type": "code",
      "source": [
        "plt.plot(df3)\n"
      ],
      "metadata": {
        "colab": {
          "base_uri": "https://localhost:8080/",
          "height": 447
        },
        "id": "VIRN1ZUtA7mL",
        "outputId": "f839e2aa-6924-4ede-8823-459409a52565"
      },
      "execution_count": null,
      "outputs": [
        {
          "output_type": "execute_result",
          "data": {
            "text/plain": [
              "[<matplotlib.lines.Line2D at 0x7f57427b5060>]"
            ]
          },
          "metadata": {},
          "execution_count": 24
        },
        {
          "output_type": "display_data",
          "data": {
            "text/plain": [
              "<Figure size 640x480 with 1 Axes>"
            ],
            "image/png": "[encoded data removed]"
          },
          "metadata": {}
        }
      ]
    }
  ]
}